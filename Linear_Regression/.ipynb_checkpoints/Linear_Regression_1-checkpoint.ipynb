{
 "cells": [
  {
   "cell_type": "markdown",
   "metadata": {},
   "source": [
    "# LINEAR REGRESSION CODE"
   ]
  },
  {
   "cell_type": "code",
   "execution_count": 1,
   "metadata": {},
   "outputs": [],
   "source": [
    "#importing libraries\n",
    "import numpy as np\n",
    "import pandas as pd\n",
    "import random\n",
    "import matplotlib.pyplot as plt\n",
    "from sklearn.metrics import mean_squared_error, r2_score"
   ]
  },
  {
   "cell_type": "code",
   "execution_count": 2,
   "metadata": {},
   "outputs": [],
   "source": [
    "#function for i=0 to m sum((y(i)-yh(i))^2)\n",
    "def sum1(y,x,w0,w1,m):\n",
    "    sum0=0.0\n",
    "    for i in range(0,m):\n",
    "        n=y[i]-w0-w1*x[i]\n",
    "        n=n*n\n",
    "        sum0=sum0+n\n",
    "    return sum0    "
   ]
  },
  {
   "cell_type": "code",
   "execution_count": 3,
   "metadata": {},
   "outputs": [],
   "source": [
    "#loading dataset\n",
    "dataset=pd.read_csv(\"train.csv\")\n",
    "x=np.zeros(699)\n",
    "x=dataset.iloc[:,0:1].values\n",
    "y=dataset.iloc[:,1:2].values\n",
    "m=np.shape(x)[0]\n",
    "x=x.astype(np.float64)\n",
    "y=y.astype(np.float64)"
   ]
  },
  {
   "cell_type": "code",
   "execution_count": 4,
   "metadata": {},
   "outputs": [],
   "source": [
    "#Rescaling dataset\n",
    "x_max=np.max(x)\n",
    "x_min=np.min(x)\n",
    "for i in range(0,len(x)):\n",
    "    x[i]=float(x[i])\n",
    "    x[i]=float((x_max-x[i])/(x_max-x_min))\n",
    "\n",
    "y_max=np.max(y)\n",
    "y_min=np.min(y)\n",
    "for i in range(0,len(y)):\n",
    "    y[i]=(y_max-y[i])/(y_max-y_min)"
   ]
  },
  {
   "cell_type": "code",
   "execution_count": 5,
   "metadata": {},
   "outputs": [],
   "source": [
    "#making arrays for x^2 x^3\n",
    "x0=np.zeros((699,1))\n",
    "x2=np.zeros((699,1))\n",
    "x3=np.zeros((699,1))\n",
    "for i in range(0,len(x)):\n",
    "    x0[i]=1;\n",
    "    x2[i]=float(x[i]*x[i])\n",
    "    x3[i]=float(x[i]*x[i]*x[i])   "
   ]
  },
  {
   "cell_type": "code",
   "execution_count": 6,
   "metadata": {},
   "outputs": [],
   "source": [
    "#generating random values for w0,w1,w2,w3\n",
    "w0=random.uniform(0,1)  \n",
    "w1=random.uniform(0,1)\n",
    "w2=random.uniform(0,1)  \n",
    "w3=random.uniform(0,1)  "
   ]
  },
  {
   "cell_type": "code",
   "execution_count": 7,
   "metadata": {},
   "outputs": [
    {
     "data": {
      "text/plain": [
       "(0.6955499422733635,\n",
       " 0.9635939749847279,\n",
       " 0.18861375548405168,\n",
       " 0.7262396977199852)"
      ]
     },
     "execution_count": 7,
     "metadata": {},
     "output_type": "execute_result"
    }
   ],
   "source": [
    "w0,w1,w2,w3"
   ]
  },
  {
   "cell_type": "code",
   "execution_count": 8,
   "metadata": {},
   "outputs": [],
   "source": [
    "#deciding initial values for error(err) and learning rate(alpha)\n",
    "err=1\n",
    "alpha=1.5\n",
    "iteration=0"
   ]
  },
  {
   "cell_type": "code",
   "execution_count": 9,
   "metadata": {},
   "outputs": [],
   "source": [
    "#creating an array for storing cost of cost function at each iteration\n",
    "J=[]\n",
    "#giving its first value\n",
    "J.append(float((0.5/m)*sum1(y,x,w0,w1,m)))"
   ]
  },
  {
   "cell_type": "code",
   "execution_count": 10,
   "metadata": {},
   "outputs": [],
   "source": [
    "#training model through feedback modeling\n",
    "while(err>1.e-7):\n",
    "    yh=w0+w1*x\n",
    "    DJ0=(yh-y)\n",
    "    DW0=-alpha*sum(DJ0)/m;\n",
    "    DJ1=(yh-y)*x\n",
    "    DW1=-alpha*sum(DJ1)/m;\n",
    "    w0=w0+DW0\n",
    "    w1=w1+DW1\n",
    "    iteration=iteration+1\n",
    "    J.append(float((0.5/m)*sum1(y,x,w0,w1,m)))\n",
    "    err=abs(J[iteration]-J[iteration-1])\n",
    "    "
   ]
  },
  {
   "cell_type": "code",
   "execution_count": 11,
   "metadata": {},
   "outputs": [
    {
     "data": {
      "text/plain": [
       "[<matplotlib.lines.Line2D at 0x21e73b35f98>]"
      ]
     },
     "execution_count": 11,
     "metadata": {},
     "output_type": "execute_result"
    },
    {
     "data": {
      "image/png": "[encoded data removed]",
      "text/plain": [
       "<Figure size 432x288 with 1 Axes>"
      ]
     },
     "metadata": {},
     "output_type": "display_data"
    }
   ],
   "source": [
    "#plot of iteration vs reducing cost function\n",
    "iteration=iteration+1\n",
    "iteration1=[]  \n",
    "for i in range(0,iteration):\n",
    "    iteration1.append(i)\n",
    "plt.scatter(iteration1,J,color='BLUE')\n",
    "plt.plot(iteration1,J,color='RED')    \n",
    "    "
   ]
  },
  {
   "cell_type": "code",
   "execution_count": 12,
   "metadata": {},
   "outputs": [
    {
     "data": {
      "text/plain": [
       "[<matplotlib.lines.Line2D at 0x21e73b35a90>]"
      ]
     },
     "execution_count": 12,
     "metadata": {},
     "output_type": "execute_result"
    },
    {
     "data": {
      "image/png": "[encoded data removed]",
      "text/plain": [
       "<Figure size 432x288 with 1 Axes>"
      ]
     },
     "metadata": {},
     "output_type": "display_data"
    }
   ],
   "source": [
    "#plotting regression line on the graph\n",
    "plt.scatter(x,y,color='BLUE')\n",
    "plt.plot(x,yh,color='RED')  "
   ]
  },
  {
   "cell_type": "code",
   "execution_count": 13,
   "metadata": {},
   "outputs": [],
   "source": [
    "#loading test data\n",
    "dataset=pd.read_csv(\"test.csv\")\n",
    "x_test=np.zeros(699)\n",
    "x_test=dataset.iloc[:,0:1].values\n",
    "y_test=dataset.iloc[:,1:2].values\n",
    "x_test=x_test.astype(np.float64)\n",
    "y_test=y_test.astype(np.float64)\n",
    "\n",
    "for i in range(0,len(x_test)):\n",
    "    x_test[i]=float(x_test[i])\n",
    "    x_test[i]=float((x_max-x_test[i])/(x_max-x_min))\n",
    "for i in range(0,len(y_test)):\n",
    "    y_test[i]=float(y_test[i])\n",
    "    y_test[i]=float((y_max-y_test[i])/(y_max-y_min))\n",
    "    \n"
   ]
  },
  {
   "cell_type": "code",
   "execution_count": 14,
   "metadata": {},
   "outputs": [
    {
     "data": {
      "text/plain": [
       "(array([0.07987323]), array([0.88790687]))"
      ]
     },
     "execution_count": 14,
     "metadata": {},
     "output_type": "execute_result"
    }
   ],
   "source": [
    "#final values of weight\n",
    "w0,w1\n"
   ]
  },
  {
   "cell_type": "code",
   "execution_count": 15,
   "metadata": {},
   "outputs": [],
   "source": [
    "#prediction on test values using updated weights\n",
    "y_pred=[]\n",
    "for i in range(0,len(x_test)):\n",
    "    y_pred.append(float(w0+x_test[i]*w1))\n",
    "y_pred=np.reshape(a=y_pred,newshape=(len(y_pred),1))    "
   ]
  },
  {
   "cell_type": "code",
   "execution_count": 18,
   "metadata": {},
   "outputs": [
    {
     "name": "stdout",
     "output_type": "stream",
     "text": [
      "[0.25814971]   [0.28409182]\n",
      "[0.76029743]   [0.78131967]\n",
      "[0.73872039]   [0.7724406]\n",
      "[0.80749657]   [0.79019873]\n",
      "[0.59463049]   [0.64813363]\n",
      "[0.8789369]   [0.83459408]\n",
      "[0.44358308]   [0.41727785]\n",
      "[0.09984493]   [0.12426858]\n",
      "[0.80272564]   [0.79019873]\n",
      "[0.88832801]   [0.92338477]\n",
      "[0.94098747]   [0.93226383]\n",
      "[0.81425733]   [0.7990778]\n",
      "[0.1217492]   [0.11538951]\n",
      "[0.42128416]   [0.41727785]\n",
      "[0.60885128]   [0.64813363]\n",
      "[0.83442284]   [0.83459408]\n",
      "[0.37186545]   [0.39064064]\n",
      "[0.81834114]   [0.84347315]\n",
      "[0.16162029]   [0.19530113]\n",
      "[0.28073235]   [0.35512437]\n",
      "[0.14863205]   [0.17754299]\n",
      "[0.54970155]   [0.5149476]\n",
      "[0.1689735]   [0.17754299]\n",
      "[0.77328168]   [0.72804525]\n",
      "[0.10167142]   [0.10651044]\n",
      "[0.4600707]   [0.45279412]\n",
      "[0.27114381]   [0.26633368]\n",
      "[0.79619231]   [0.78131967]\n",
      "[0.14050714]   [0.14202672]\n",
      "[0.73000911]   [0.72804525]\n",
      "[0.10043389]   [0.0887523]\n",
      "[0.68703106]   [0.69252898]\n",
      "[0.6542749]   [0.67477084]\n",
      "[0.2684834]   [0.25745461]\n",
      "[0.67251721]   [0.71916618]\n",
      "[0.50724102]   [0.55046388]\n",
      "[0.49018261]   [0.49718947]\n",
      "[0.34964066]   [0.35512437]\n",
      "[0.72261104]   [0.71916618]\n",
      "[0.64345797]   [0.67477084]\n",
      "[0.12252696]   [0.15978485]\n",
      "[0.36113737]   [0.33736623]\n",
      "[0.51378974]   [0.52382667]\n",
      "[0.27352326]   [0.29297088]\n",
      "[0.91617858]   [0.93226383]\n",
      "[0.64552602]   [0.63925457]\n",
      "[0.36940655]   [0.3462453]\n",
      "[0.38912036]   [0.36400343]\n",
      "[0.62747827]   [0.61261736]\n",
      "[0.66151314]   [0.6570127]\n",
      "[0.12054286]   [0.13314765]\n",
      "[0.18653022]   [0.18642206]\n",
      "[0.48610713]   [0.50606853]\n",
      "[0.68263589]   [0.69252898]\n",
      "[0.43703707]   [0.44391505]\n",
      "[0.97515902]   [0.96778011]\n",
      "[0.54455682]   [0.62149643]\n",
      "[0.41052315]   [0.39951971]\n",
      "[0.33676192]   [0.35512437]\n",
      "[0.46777153]   [0.46167319]\n",
      "[0.84122566]   [0.85235222]\n",
      "[0.36161271]   [0.32848716]\n",
      "[0.29521899]   [0.29297088]\n",
      "[0.44046818]   [0.42615692]\n",
      "[0.20775658]   [0.23969647]\n",
      "[0.80834313]   [0.80795687]\n",
      "[0.62267532]   [0.60373829]\n",
      "[0.51377305]   [0.52382667]\n",
      "[0.50604002]   [0.47943133]\n",
      "[0.81442822]   [0.85235222]\n",
      "[0.55282864]   [0.55934295]\n",
      "[0.87412542]   [0.85235222]\n",
      "[0.27469479]   [0.26633368]\n",
      "[0.52081181]   [0.49718947]\n",
      "[0.84831297]   [0.83459408]\n",
      "[0.68802918]   [0.71916618]\n",
      "[0.3100013]   [0.24857554]\n",
      "[0.30538538]   [0.35512437]\n",
      "[0.50440501]   [0.50606853]\n",
      "[0.22343231]   [0.22193833]\n",
      "[0.34159522]   [0.36400343]\n",
      "[0.757924]   [0.72804525]\n",
      "[0.52382453]   [0.47055226]\n",
      "[0.52336541]   [0.54158481]\n",
      "[0.60176914]   [0.61261736]\n",
      "[0.66979153]   [0.62149643]\n",
      "[0.24464312]   [0.23969647]\n",
      "[0.02909888]   [0.07987323]\n",
      "[0.46177189]   [0.44391505]\n",
      "[0.53409846]   [0.58598015]\n",
      "[0.37130262]   [0.3728825]\n",
      "[0.62496544]   [0.6303755]\n",
      "[0.44588977]   [0.40839878]\n",
      "[0.17520684]   [0.15978485]\n",
      "[0.42552032]   [0.43503598]\n",
      "[0.84314321]   [0.84347315]\n",
      "[0.81607188]   [0.78131967]\n",
      "[0.22007362]   [0.19530113]\n",
      "[0.34177423]   [0.31960809]\n",
      "[0.66973477]   [0.68364991]\n",
      "[0.98041894]   [0.95002197]\n",
      "[0.18034399]   [0.23969647]\n",
      "[0.8111955]   [0.7990778]\n",
      "[0.29436751]   [0.31072902]\n",
      "[0.59351076]   [0.59485922]\n",
      "[0.85420819]   [0.86123128]\n",
      "[0.96348833]   [0.95890104]\n",
      "[0.09527891]   [0.16866392]\n",
      "[0.18999289]   [0.17754299]\n",
      "[0.98673391]   [0.96778011]\n",
      "[0.61699242]   [0.60373829]\n",
      "[0.81787914]   [0.82571501]\n",
      "[0.10897487]   [0.13314765]\n",
      "[0.09908649]   [0.10651044]\n",
      "[0.37134118]   [0.38176157]\n",
      "[0.73849414]   [0.75468246]\n",
      "[0.84692712]   [0.81683594]\n",
      "[0.12168353]   [0.16866392]\n",
      "[0.87947873]   [0.85235222]\n",
      "[0.99669868]   [0.96778011]\n",
      "[0.4085068]   [0.39951971]\n",
      "[0.10289592]   [0.11538951]\n",
      "[0.11792439]   [0.09763137]\n",
      "[0.89966886]   [0.86123128]\n",
      "[0.56272489]   [0.60373829]\n",
      "[0.5516866]   [0.55046388]\n",
      "[0.3049576]   [0.27521275]\n",
      "[0.77398078]   [0.79019873]\n",
      "[0.1532773]   [0.17754299]\n",
      "[0.73086301]   [0.71028712]\n",
      "[0.3680639]   [0.39951971]\n",
      "[0.30713778]   [0.30184995]\n",
      "[0.85875546]   [0.86123128]\n",
      "[0.7767513]   [0.74580339]\n",
      "[0.70581837]   [0.71916618]\n",
      "[0.7309317]   [0.70140805]\n",
      "[0.35421927]   [0.39064064]\n",
      "[0.44153067]   [0.44391505]\n",
      "[0.39478108]   [0.39951971]\n",
      "[0.43175711]   [0.49718947]\n",
      "[0.34183102]   [0.33736623]\n",
      "[0.10436692]   [0.10651044]\n",
      "[0.29378698]   [0.31960809]\n",
      "[0.87007009]   [0.88786849]\n",
      "[0.85846904]   [0.86123128]\n",
      "[0.4044703]   [0.40839878]\n",
      "[0.09618745]   [0.0887523]\n",
      "[0.40526507]   [0.43503598]\n",
      "[0.6567038]   [0.6570127]\n",
      "[0.99094976]   [0.95002197]\n",
      "[0.43509472]   [0.43503598]\n",
      "[0.70522083]   [0.68364991]\n",
      "[0.10531422]   [0.13314765]\n",
      "[0.21013849]   [0.22193833]\n",
      "[0.4181556]   [0.40839878]\n",
      "[0.79870783]   [0.7724406]\n",
      "[0.26688942]   [0.24857554]\n",
      "[0.12197159]   [0.14202672]\n",
      "[0.69542803]   [0.67477084]\n",
      "[0.87352977]   [0.90562663]\n",
      "[0.62006434]   [0.59485922]\n",
      "[0.55683184]   [0.55934295]\n",
      "[0.50057476]   [0.4883104]\n",
      "[0.77814865]   [0.82571501]\n",
      "[0.50203717]   [0.53270574]\n",
      "[0.57388041]   [0.58598015]\n",
      "[0.10410018]   [0.12426858]\n",
      "[0.36954083]   [0.38176157]\n",
      "[0.79750794]   [0.78131967]\n",
      "[0.74955159]   [0.6570127]\n",
      "[0.26105497]   [0.25745461]\n",
      "[0.6107319]   [0.63925457]\n",
      "[0.49286463]   [0.4883104]\n",
      "[0.48191268]   [0.47055226]\n",
      "[0.99042868]   [0.95890104]\n",
      "[0.63054549]   [0.68364991]\n",
      "[0.455891]   [0.45279412]\n",
      "[0.64597334]   [0.68364991]\n",
      "[0.52378138]   [0.55934295]\n",
      "[0.30327034]   [0.32848716]\n",
      "[0.83407586]   [0.81683594]\n",
      "[0.06921941]   [0.10651044]\n",
      "[0.08371667]   [0.14202672]\n",
      "[0.15241742]   [0.15978485]\n",
      "[0.66316942]   [0.63925457]\n",
      "[0.91199334]   [0.93226383]\n",
      "[0.44182805]   [0.4883104]\n",
      "[0.46526851]   [0.5149476]\n",
      "[0.69538086]   [0.72804525]\n",
      "[0.53694466]   [0.55934295]\n",
      "[0.16981466]   [0.15090578]\n",
      "[0.31947726]   [0.31960809]\n",
      "[0.24753597]   [0.28409182]\n",
      "[0.15531635]   [0.15978485]\n",
      "[0.43296558]   [0.42615692]\n",
      "[0.07983022]   [0.0887523]\n",
      "[0.88913568]   [0.93226383]\n",
      "[0.3502127]   [0.32848716]\n",
      "[0.79391844]   [0.7990778]\n",
      "[0.49467255]   [0.46167319]\n",
      "[0.27037846]   [0.27521275]\n",
      "[0.73741739]   [0.73692432]\n",
      "[0.29985176]   [0.31072902]\n",
      "[0.14181234]   [0.16866392]\n",
      "[0.34971231]   [0.38176157]\n",
      "[0.84951789]   [0.85235222]\n",
      "[0.53919195]   [0.61261736]\n",
      "[0.26223888]   [0.28409182]\n",
      "[0.35828975]   [0.3728825]\n",
      "[0.31621886]   [0.30184995]\n",
      "[0.74693281]   [0.76356153]\n",
      "[0.59415295]   [0.56822202]\n",
      "[0.41384615]   [0.44391505]\n",
      "[0.55812933]   [0.57710108]\n",
      "[0.75719932]   [0.76356153]\n",
      "[0.5063477]   [0.47943133]\n",
      "[0.51249273]   [0.47943133]\n",
      "[0.11599645]   [0.12426858]\n",
      "[0.88394167]   [0.86123128]\n",
      "[0.89808936]   [0.93226383]\n",
      "[0.88358181]   [0.90562663]\n",
      "[0.04742193]   [0.07987323]\n",
      "[0.54529925]   [0.54158481]\n",
      "[0.59295814]   [0.59485922]\n",
      "[0.11313648]   [0.11538951]\n",
      "[0.62827566]   [0.62149643]\n",
      "[0.03035393]   [0.07987323]\n",
      "[0.17805221]   [0.19530113]\n",
      "[0.8284738]   [0.84347315]\n",
      "[0.85568276]   [0.84347315]\n",
      "[0.61097991]   [0.63925457]\n",
      "[0.91594466]   [0.92338477]\n",
      "[0.1907721]   [0.18642206]\n",
      "[0.16974383]   [0.15978485]\n",
      "[0.37490926]   [0.39064064]\n",
      "[0.31902425]   [0.31072902]\n",
      "[0.45852054]   [0.47055226]\n",
      "[0.8664105]   [0.82571501]\n",
      "[0.95993263]   [0.92338477]\n",
      "[0.71611913]   [0.71916618]\n",
      "[0.11956017]   [0.15090578]\n",
      "[0.5040893]   [0.55934295]\n",
      "[0.43618379]   [0.4883104]\n",
      "[0.63950269]   [0.62149643]\n",
      "[0.63690908]   [0.57710108]\n",
      "[0.75136223]   [0.69252898]\n",
      "[0.36894486]   [0.36400343]\n",
      "[0.23068632]   [0.2041802]\n",
      "[0.1683201]   [0.16866392]\n",
      "[0.63817643]   [0.6303755]\n",
      "[0.78959039]   [0.78131967]\n",
      "[0.1610908]   [0.12426858]\n",
      "[0.42389551]   [0.47055226]\n",
      "[0.43261092]   [0.43503598]\n",
      "[0.39071981]   [0.39064064]\n",
      "[0.24369986]   [0.27521275]\n",
      "[0.1461202]   [0.17754299]\n",
      "[0.94307058]   [0.9145057]\n",
      "[0.39981632]   [0.3728825]\n",
      "[0.62277362]   [0.64813363]\n",
      "[0.81662599]   [0.82571501]\n",
      "[0.08060169]   [0.07987323]\n",
      "[0.56943992]   [0.56822202]\n",
      "[0.3359711]   [0.31960809]\n",
      "[0.50836251]   [0.46167319]\n",
      "[0.78956517]   [0.79019873]\n",
      "[0.26056061]   [0.29297088]\n",
      "[0.65905243]   [0.66589177]\n",
      "[0.47140908]   [0.47943133]\n",
      "[0.36087146]   [0.32848716]\n",
      "[0.4707176]   [0.47943133]\n",
      "[0.88260837]   [0.89674756]\n",
      "[0.46895916]   [0.47055226]\n",
      "[0.27392629]   [0.32848716]\n",
      "[0.4746727]   [0.45279412]\n",
      "[0.86039982]   [0.9145057]\n",
      "[0.1249277]   [0.11538951]\n",
      "[0.73800038]   [0.76356153]\n",
      "[0.49108695]   [0.45279412]\n",
      "[0.80344571]   [0.76356153]\n",
      "[0.77583178]   [0.7990778]\n",
      "[0.69610036]   [0.74580339]\n",
      "[0.36544772]   [0.39951971]\n",
      "[0.81434511]   [0.78131967]\n",
      "[0.4254548]   [0.44391505]\n",
      "[0.83289099]   [0.7990778]\n",
      "[0.81732829]   [0.82571501]\n",
      "[0.59800748]   [0.59485922]\n",
      "[0.58579913]   [0.58598015]\n",
      "[0.44132537]   [0.42615692]\n",
      "[0.15582231]   [0.15090578]\n",
      "[0.88897933]   [0.87011035]\n",
      "[0.61712162]   [0.60373829]\n",
      "[0.91878682]   [0.95890104]\n",
      "[0.91797471]   [0.89674756]\n",
      "[0.357778]   [0.33736623]\n",
      "[0.54596636]   [0.55934295]\n",
      "[0.4860279]   [0.47943133]\n",
      "[0.40434567]   [0.41727785]\n",
      "[0.50049996]   [0.55046388]\n"
     ]
    }
   ],
   "source": [
    "#checking values of y_pred and y_test\n",
    "for i in range(0,len(x_test)):\n",
    "    print(str(y_test[i])+\"   \"+str(y_pred[i]))"
   ]
  },
  {
   "cell_type": "code",
   "execution_count": 17,
   "metadata": {},
   "outputs": [
    {
     "name": "stdout",
     "output_type": "stream",
     "text": [
      "Mean squared error: 0.00\n",
      "Variance score: 0.99\n"
     ]
    }
   ],
   "source": [
    "#There is no correct value for MSE. Simply put, the lower the value the better and 0 means the model is perfect. \n",
    "#Since there is no correct answer, the MSE’s basic value is in selecting one prediction model over another.\n",
    "print(\"Mean squared error: %.2f\"\n",
    "      % mean_squared_error(y_test,y_pred))\n",
    "\n",
    "#Similarly, There is also no correct answer as to what R2 should be. 100% means perfect correlation. Yet, \n",
    "#there are models with a low R2 that are still good models.\n",
    "# Explained variance score: 1 is perfect prediction\n",
    "print('Variance score: %.2f' % r2_score(y_test,y_pred))\n"
   ]
  }
 ],
 "metadata": {
  "kernelspec": {
   "display_name": "Python 3",
   "language": "python",
   "name": "python3"
  },
  "language_info": {
   "codemirror_mode": {
    "name": "ipython",
    "version": 3
   },
   "file_extension": ".py",
   "mimetype": "text/x-python",
   "name": "python",
   "nbconvert_exporter": "python",
   "pygments_lexer": "ipython3",
   "version": "3.6.5"
  }
 },
 "nbformat": 4,
 "nbformat_minor": 2
}
